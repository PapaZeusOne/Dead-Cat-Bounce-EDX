{
 "cells": [
  {
   "cell_type": "code",
   "execution_count": 1,
   "metadata": {},
   "outputs": [],
   "source": [
    "import numpy as np \n",
    "import pandas as pd\n",
    "import datetime\n",
    "from alpha_vantage.timeseries import TimeSeries\n",
    "from matplotlib import pyplot as plt\n",
    "from sklearn.metrics import accuracy_score\n",
    "from sklearn.model_selection import train_test_split\n",
    "from sklearn.tree import DecisionTreeClassifier"
   ]
  },
  {
   "cell_type": "markdown",
   "metadata": {},
   "source": [
    "<p style=\"font-family: Arial; font-size:1.75em;color:purple; font-style:bold\">Project begin</p>"
   ]
  },
  {
   "cell_type": "markdown",
   "metadata": {},
   "source": [
    "<br> Import data from the Alpha Vantage API </br>"
   ]
  },
  {
   "cell_type": "code",
   "execution_count": 2,
   "metadata": {},
   "outputs": [],
   "source": [
    "ts = TimeSeries(key='', output_format='pandas')\n",
    "data, meta_data = ts.get_daily_adjusted(symbol='AAPL', outputsize='full')"
   ]
  },
  {
   "cell_type": "markdown",
   "metadata": {},
   "source": [
    "<p style=\"font-family: Arial; font-size:1.75em;color:purple; font-style:bold\">Daily Stock Data Description</p>\n",
    "<br>\n",
    "The dataframe **data** contains stock data depending on the symbol set.  This data comes from an API call. The data is provided by Alpha Vantage in a free version. The API yields important stock data like \"Open\", \"High\" and some more, which are represented as the columns header. Data was collected since 1999. The data set is really huge and should be resized to ensure sufficient computing.<br><br>\n",
    "Let's now check all the columns in the data."
   ]
  },
  {
   "cell_type": "code",
   "execution_count": 3,
   "metadata": {},
   "outputs": [
    {
     "data": {
      "text/plain": [
       "Index(['1. open', '2. high', '3. low', '4. close', '5. adjusted close',\n",
       "       '6. volume', '7. dividend amount', '8. split coefficient'],\n",
       "      dtype='object')"
      ]
     },
     "execution_count": 3,
     "metadata": {},
     "output_type": "execute_result"
    }
   ],
   "source": [
    "data.columns"
   ]
  },
  {
   "cell_type": "markdown",
   "metadata": {},
   "source": [
    "<br>\n",
    "Sort index, as the data is received in the wrong order.<br>"
   ]
  },
  {
   "cell_type": "code",
   "execution_count": 36,
   "metadata": {},
   "outputs": [
    {
     "data": {
      "text/html": [
       "<div>\n",
       "<style scoped>\n",
       "    .dataframe tbody tr th:only-of-type {\n",
       "        vertical-align: middle;\n",
       "    }\n",
       "\n",
       "    .dataframe tbody tr th {\n",
       "        vertical-align: top;\n",
       "    }\n",
       "\n",
       "    .dataframe thead th {\n",
       "        text-align: right;\n",
       "    }\n",
       "</style>\n",
       "<table border=\"1\" class=\"dataframe\">\n",
       "  <thead>\n",
       "    <tr style=\"text-align: right;\">\n",
       "      <th></th>\n",
       "      <th>1. open</th>\n",
       "      <th>2. high</th>\n",
       "      <th>3. low</th>\n",
       "      <th>4. close</th>\n",
       "      <th>5. adjusted close</th>\n",
       "      <th>6. volume</th>\n",
       "      <th>7. dividend amount</th>\n",
       "      <th>8. split coefficient</th>\n",
       "    </tr>\n",
       "    <tr>\n",
       "      <th>date</th>\n",
       "      <th></th>\n",
       "      <th></th>\n",
       "      <th></th>\n",
       "      <th></th>\n",
       "      <th></th>\n",
       "      <th></th>\n",
       "      <th></th>\n",
       "      <th></th>\n",
       "    </tr>\n",
       "  </thead>\n",
       "  <tbody>\n",
       "    <tr>\n",
       "      <th>1999-11-01</th>\n",
       "      <td>80.00</td>\n",
       "      <td>80.69</td>\n",
       "      <td>77.37</td>\n",
       "      <td>77.62</td>\n",
       "      <td>0.595872</td>\n",
       "      <td>2487300.0</td>\n",
       "      <td>0.0</td>\n",
       "      <td>1.0</td>\n",
       "    </tr>\n",
       "    <tr>\n",
       "      <th>1999-11-02</th>\n",
       "      <td>78.00</td>\n",
       "      <td>81.69</td>\n",
       "      <td>77.31</td>\n",
       "      <td>80.25</td>\n",
       "      <td>0.616062</td>\n",
       "      <td>3564600.0</td>\n",
       "      <td>0.0</td>\n",
       "      <td>1.0</td>\n",
       "    </tr>\n",
       "    <tr>\n",
       "      <th>1999-11-03</th>\n",
       "      <td>81.62</td>\n",
       "      <td>83.25</td>\n",
       "      <td>81.00</td>\n",
       "      <td>81.50</td>\n",
       "      <td>0.625658</td>\n",
       "      <td>2932700.0</td>\n",
       "      <td>0.0</td>\n",
       "      <td>1.0</td>\n",
       "    </tr>\n",
       "    <tr>\n",
       "      <th>1999-11-04</th>\n",
       "      <td>82.06</td>\n",
       "      <td>85.37</td>\n",
       "      <td>80.62</td>\n",
       "      <td>83.62</td>\n",
       "      <td>0.641933</td>\n",
       "      <td>3384700.0</td>\n",
       "      <td>0.0</td>\n",
       "      <td>1.0</td>\n",
       "    </tr>\n",
       "    <tr>\n",
       "      <th>1999-11-05</th>\n",
       "      <td>84.62</td>\n",
       "      <td>88.37</td>\n",
       "      <td>84.00</td>\n",
       "      <td>88.31</td>\n",
       "      <td>0.677937</td>\n",
       "      <td>3721500.0</td>\n",
       "      <td>0.0</td>\n",
       "      <td>1.0</td>\n",
       "    </tr>\n",
       "  </tbody>\n",
       "</table>\n",
       "</div>"
      ],
      "text/plain": [
       "            1. open  2. high  3. low  4. close  5. adjusted close  6. volume  \\\n",
       "date                                                                           \n",
       "1999-11-01    80.00    80.69   77.37     77.62           0.595872  2487300.0   \n",
       "1999-11-02    78.00    81.69   77.31     80.25           0.616062  3564600.0   \n",
       "1999-11-03    81.62    83.25   81.00     81.50           0.625658  2932700.0   \n",
       "1999-11-04    82.06    85.37   80.62     83.62           0.641933  3384700.0   \n",
       "1999-11-05    84.62    88.37   84.00     88.31           0.677937  3721500.0   \n",
       "\n",
       "            7. dividend amount  8. split coefficient  \n",
       "date                                                  \n",
       "1999-11-01                 0.0                   1.0  \n",
       "1999-11-02                 0.0                   1.0  \n",
       "1999-11-03                 0.0                   1.0  \n",
       "1999-11-04                 0.0                   1.0  \n",
       "1999-11-05                 0.0                   1.0  "
      ]
     },
     "execution_count": 36,
     "metadata": {},
     "output_type": "execute_result"
    }
   ],
   "source": [
    "data = data.sort_index(ascending=True)\n",
    "data.head()"
   ]
  },
  {
   "cell_type": "markdown",
   "metadata": {},
   "source": [
    "<br>\n",
    "Resize the data set to start approximately 10 years from now.<br>"
   ]
  },
  {
   "cell_type": "code",
   "execution_count": 5,
   "metadata": {},
   "outputs": [
    {
     "name": "stdout",
     "output_type": "stream",
     "text": [
      "2011-07-28 00:00:00 until 2021-07-23 00:00:00\n"
     ]
    }
   ],
   "source": [
    "start_date = '2011-07-28'\n",
    "\n",
    "df = data[start_date:].copy()\n",
    "print(df.index.min(), 'until' , df.index.max())"
   ]
  },
  {
   "cell_type": "markdown",
   "metadata": {},
   "source": [
    "<br>\n",
    "Delete all columns which have no use for calculations. Resizing the data set allows an better overview about the data frame. <br>"
   ]
  },
  {
   "cell_type": "code",
   "execution_count": 6,
   "metadata": {},
   "outputs": [],
   "source": [
    "del df['6. volume']\n",
    "del df['7. dividend amount']\n",
    "del df['8. split coefficient']"
   ]
  },
  {
   "cell_type": "code",
   "execution_count": 7,
   "metadata": {},
   "outputs": [
    {
     "data": {
      "text/plain": [
       "Index(['Open', 'High', 'Low', 'Close', 'Adj Close'], dtype='object')"
      ]
     },
     "execution_count": 7,
     "metadata": {},
     "output_type": "execute_result"
    }
   ],
   "source": [
    "# Rename\n",
    "df.columns = ['Open', 'High', 'Low', 'Close', 'Adj Close']\n",
    "df.columns"
   ]
  },
  {
   "cell_type": "code",
   "execution_count": 8,
   "metadata": {},
   "outputs": [
    {
     "data": {
      "text/plain": [
       "(2514, 5)"
      ]
     },
     "execution_count": 8,
     "metadata": {},
     "output_type": "execute_result"
    }
   ],
   "source": [
    "df.shape"
   ]
  },
  {
   "cell_type": "code",
   "execution_count": 9,
   "metadata": {},
   "outputs": [
    {
     "data": {
      "text/html": [
       "<div>\n",
       "<style scoped>\n",
       "    .dataframe tbody tr th:only-of-type {\n",
       "        vertical-align: middle;\n",
       "    }\n",
       "\n",
       "    .dataframe tbody tr th {\n",
       "        vertical-align: top;\n",
       "    }\n",
       "\n",
       "    .dataframe thead th {\n",
       "        text-align: right;\n",
       "    }\n",
       "</style>\n",
       "<table border=\"1\" class=\"dataframe\">\n",
       "  <thead>\n",
       "    <tr style=\"text-align: right;\">\n",
       "      <th></th>\n",
       "      <th>Open</th>\n",
       "      <th>High</th>\n",
       "      <th>Low</th>\n",
       "      <th>Close</th>\n",
       "      <th>Adj Close</th>\n",
       "    </tr>\n",
       "    <tr>\n",
       "      <th>date</th>\n",
       "      <th></th>\n",
       "      <th></th>\n",
       "      <th></th>\n",
       "      <th></th>\n",
       "      <th></th>\n",
       "    </tr>\n",
       "  </thead>\n",
       "  <tbody>\n",
       "  </tbody>\n",
       "</table>\n",
       "</div>"
      ],
      "text/plain": [
       "Empty DataFrame\n",
       "Columns: [Open, High, Low, Close, Adj Close]\n",
       "Index: []"
      ]
     },
     "execution_count": 9,
     "metadata": {},
     "output_type": "execute_result"
    }
   ],
   "source": [
    "df[df.isnull().any(axis=1)]"
   ]
  },
  {
   "cell_type": "code",
   "execution_count": 10,
   "metadata": {},
   "outputs": [
    {
     "data": {
      "text/plain": [
       "(2514, 5)"
      ]
     },
     "execution_count": 10,
     "metadata": {},
     "output_type": "execute_result"
    }
   ],
   "source": [
    "df = df.dropna()\n",
    "df.shape"
   ]
  },
  {
   "cell_type": "markdown",
   "metadata": {},
   "source": [
    "<p style=\"font-family: Arial; font-size:1.75em;color:purple; font-style:bold\">Examine technical indicators for the Dead Cat Bounce</p>\n",
    "<br>\n",
    "For the calculation it has to be considered, that two technical indicators need to be calculated beforehand, in order to define a Dead Cat Bounce. The two most important indicators are:\n",
    "\n",
    "\n",
    "* **MACD & Signalline**: MACD stands for Moving Average Convergence Divergance and is defined as a trending Momentum-Indicator. You can calculate the MACD by computing the EMA for 26 and 12 days. Afterwards go for 26-EMA - 12-EMA. A smoothed average is produced. If the MACD is high, an upwarded trend can be recognized. After calculating the MACD, the Signalline is also important. The SL is defined as the smoothed average based in the MACD value with a timespan of 9 days. At the end both results can be compared and if the SL is higher than the MACD, a bearish market (downward trend) is happening.\n",
    "* **Bollinger Bands**: The BB represent an average value of 20 days. Also an upper and lower band can be calculated. For those, one have to compute the standard deviation of the 20-day average. If the distance between the lower and upper band becomes bigger, a more volatile market situation is recognized. \n",
    "* **EMA**: The exponential moving average (EMA) is a technical chart indicator that tracks the price of an investment (like a stock or commodity) over time. The EMA is designed to improve on the idea of an simple moving average (SMA) by giving more weight to the most recent price data, which is considered to be more relevant than older data.\n",
    "<br><br>"
   ]
  },
  {
   "cell_type": "code",
   "execution_count": 11,
   "metadata": {},
   "outputs": [],
   "source": [
    "clean_df = df.copy()"
   ]
  },
  {
   "cell_type": "code",
   "execution_count": 12,
   "metadata": {},
   "outputs": [],
   "source": [
    "ema = 7\n",
    "clean_df['ema'] = clean_df['Adj Close'].ewm(span=ema, adjust=False).mean()"
   ]
  },
  {
   "cell_type": "markdown",
   "metadata": {},
   "source": [
    "<br>\n",
    "Calculate the MACD <br>"
   ]
  },
  {
   "cell_type": "code",
   "execution_count": 13,
   "metadata": {},
   "outputs": [],
   "source": [
    "ema_short_range = 12\n",
    "ema_long_range = 26\n",
    "signalline_span = 9\n",
    "\n",
    "ema_short = clean_df['Adj Close'].ewm(span=ema_short_range, adjust=False).mean()\n",
    "ema_long = clean_df['Adj Close'].ewm(span=ema_long_range, adjust=False).mean()\n",
    "clean_df['macd'] = ema_short - ema_long\n",
    "clean_df['signalline'] = clean_df['macd'].ewm(span=signalline_span, adjust=False).mean()"
   ]
  },
  {
   "cell_type": "markdown",
   "metadata": {},
   "source": [
    "<br>\n",
    "Calculate the Bollinger Bands <br>"
   ]
  },
  {
   "cell_type": "code",
   "execution_count": 14,
   "metadata": {},
   "outputs": [],
   "source": [
    "bollinger_avg = 20\n",
    "\n",
    "short_avg_ma = clean_df['Adj Close'].rolling(window=bollinger_avg).mean()\n",
    "short_avg_std = clean_df['Adj Close'].rolling(window=bollinger_avg).std()\n",
    "\n",
    "#clean_df['bollinger'] = df['Adj Close'].ewm(span=bollinger_avg, adjust=False).mean()\n",
    "clean_df['bollinger_lower_band'] = short_avg_ma - (short_avg_std *2)\n",
    "#clean_df['bollinger_upper_band'] = short_avg_ma + (short_avg_std *2)"
   ]
  },
  {
   "cell_type": "markdown",
   "metadata": {},
   "source": [
    "<br> Method to yield 0 or 1 if a Dead-Cat-Bounce appeared </br>"
   ]
  },
  {
   "cell_type": "code",
   "execution_count": 15,
   "metadata": {},
   "outputs": [],
   "source": [
    "def calculate_dead_cat_bounce(df):\n",
    "    shifted_df = clean_df.copy()\n",
    "    shifted_df = shifted_df.shift(periods=2)\n",
    "    \n",
    "    set_freq_1d = '1D'\n",
    "\n",
    "    # Get the average stock value daily and shifted\n",
    "    daily_value_mid = (clean_df['Adj Close'] + clean_df['Open'])/2\n",
    "    daily_value_mid_shift = (shifted_df['Adj Close'] + shifted_df['Open'])/2\n",
    "\n",
    "    # Calculate variable to check if the stock raised in the last day \n",
    "    pct_change_mid_ystd = daily_value_mid.pct_change(freq=set_freq_1d, fill_method='ffill')\n",
    "    pct_change_mid_ystd.dropna(inplace=True)\n",
    "\n",
    "    # Get the percentage change for the stock every day. \n",
    "    pct_change_mid = daily_value_mid_shift.pct_change(freq=set_freq_1d, fill_method='ffill')\n",
    "    pct_change_mid.dropna(inplace=True)\n",
    "    \n",
    "    # Here happens the actual magic. \n",
    "    # Check if the stock is actually falling and rebouncing that hard,\n",
    "    # that a Dead Cat Bounce will appear OR \n",
    "    # if it already bounced and the recovery is just pretended\n",
    "    dead_cat = np.where((clean_df['Adj Close'] < clean_df['ema']) &\n",
    "                        (shifted_df['signalline'] > shifted_df['macd']) &\n",
    "                        (shifted_df['Adj Close'] < shifted_df['bollinger_lower_band']) & \n",
    "                        ((pct_change_mid >= 0.05) | (pct_change_mid <= -0.05)) &\n",
    "                        (pct_change_mid_ystd > 0)\n",
    "                        , 1, 0)\n",
    "\n",
    "    clean_df['dead_cat'] = dead_cat\n",
    "    \n",
    "    return dead_cat"
   ]
  },
  {
   "cell_type": "code",
   "execution_count": 16,
   "metadata": {},
   "outputs": [],
   "source": [
    "clean_df['dead_cat'] = calculate_dead_cat_bounce(clean_df)"
   ]
  },
  {
   "cell_type": "code",
   "execution_count": 17,
   "metadata": {},
   "outputs": [],
   "source": [
    "# Create new data frame to easier plot the dead cat bounce \n",
    "dcb_df = clean_df[clean_df['dead_cat'] == 1].copy()"
   ]
  },
  {
   "cell_type": "code",
   "execution_count": 18,
   "metadata": {
    "scrolled": true
   },
   "outputs": [],
   "source": [
    "# Drop all rows with NaN values\n",
    "final_df = clean_df.copy().dropna()"
   ]
  },
  {
   "cell_type": "code",
   "execution_count": 19,
   "metadata": {},
   "outputs": [
    {
     "name": "stdout",
     "output_type": "stream",
     "text": [
      "                Open      High     Low   Close  Adj Close        ema  \\\n",
      "date                                                                   \n",
      "2013-09-13  469.3402  471.8292  464.70  464.90  14.679516  15.165451   \n",
      "2019-05-15  186.2700  191.7500  186.02  190.92  46.851081  47.716810   \n",
      "2020-03-03  303.6700  304.0000  285.80  289.32  71.653603  72.273406   \n",
      "\n",
      "                macd  signalline  bollinger_lower_band  dead_cat  \n",
      "date                                                              \n",
      "2013-09-13  0.083437    0.259291             14.798391         1  \n",
      "2019-05-15 -0.182178    0.477259             46.222221         1  \n",
      "2020-03-03 -1.595702   -0.594951             67.880043         1  \n"
     ]
    }
   ],
   "source": [
    "only_dead = (final_df['dead_cat'] == 1)\n",
    "print(final_df[only_dead])"
   ]
  },
  {
   "cell_type": "markdown",
   "metadata": {},
   "source": [
    "<p style=\"font-family: Arial; font-size:1.75em;color:purple; font-style:bold\">Plotting the results</p>\n",
    "<br>\n",
    "To understand and see where a Dead-Cat-Bounce appeared, two graphs will be provided. \n",
    "The first one shows where a DCB can be found, while the second compares the most important technical indicators to examine a Dead-Cat-Bounce. \n",
    "<br><br>"
   ]
  },
  {
   "cell_type": "code",
   "execution_count": 20,
   "metadata": {},
   "outputs": [
    {
     "data": {
      "image/png": "[encoded data removed]",
      "text/plain": [
       "<Figure size 648x432 with 1 Axes>"
      ]
     },
     "metadata": {
      "needs_background": "light"
     },
     "output_type": "display_data"
    }
   ],
   "source": [
    "%matplotlib inline\n",
    "\n",
    "# Plotting only the dead cat bounce appearance from 2019 until June 2020 for better understanding\n",
    "\n",
    "plot_date_start = '2019-04-1'\n",
    "plot_date_end = '2020-06-1'\n",
    "plot_stock = final_df[plot_date_start:plot_date_end].copy()\n",
    "plot_dcb = dcb_df[plot_date_start:plot_date_end].copy()\n",
    "\n",
    "plt.figure(figsize=(9,6))\n",
    "plt.scatter(plot_dcb.index, plot_dcb['Adj Close'], color='r', marker='X', label='Dead Cat Bounce')\n",
    "plt.plot(plot_stock.index, plot_stock['Adj Close'], label='Apple')\n",
    "\n",
    "plt.legend(loc=\"upper left\")\n",
    "plt.xlabel('Year')\n",
    "plt.ylabel('Stock Price')\n",
    "\n",
    "plt.grid(True)\n",
    "\n",
    "plt.show()"
   ]
  },
  {
   "cell_type": "code",
   "execution_count": 21,
   "metadata": {
    "scrolled": true
   },
   "outputs": [
    {
     "data": {
      "image/png": "[encoded data removed]",
      "text/plain": [
       "<Figure size 864x576 with 2 Axes>"
      ]
     },
     "metadata": {
      "needs_background": "light"
     },
     "output_type": "display_data"
    }
   ],
   "source": [
    "# Plotting a dead cat bounce during the corona crisis crash\n",
    "# to show, how each indicators correlate with each other\n",
    "\n",
    "plot_date_start = '2020-02-1'\n",
    "plot_date_end = '2020-05-1'\n",
    "plot_stock = final_df[plot_date_start:plot_date_end].copy()\n",
    "plot_dcb = dcb_df[plot_date_start:plot_date_end].copy()\n",
    "\n",
    "fig, axs = plt.subplots(2, figsize=(12,8))\n",
    "fig.suptitle('Identifying a Dead-Cat-Bounce during the corona crash by technical indicators')\n",
    "\n",
    "axs[0].scatter(plot_dcb.index, plot_dcb['Adj Close'], color='r', marker='X', label='Dead Cat Bounce')\n",
    "axs[0].plot(plot_stock.index, plot_stock['Adj Close'], label='Apple Stock')\n",
    "axs[0].plot(plot_stock.index, plot_stock['bollinger_lower_band'], label='Bollinger Lower Band')\n",
    "axs[0].plot(plot_stock.index, plot_stock['ema'], label='EMA 7 Days')\n",
    "\n",
    "axs[0].legend(loc=\"lower left\")\n",
    "\n",
    "axs[1].plot(plot_stock.index, plot_stock['macd'], label='MACD', color='b')\n",
    "axs[1].plot(plot_stock.index, plot_stock['signalline'], label='Signalline', color='r')\n",
    "\n",
    "axs[1].legend(loc=\"lower left\")\n",
    "\n",
    "axs[0].set_ylabel('Share Price')\n",
    "axs[1].set_xlabel('Year')\n",
    "axs[1].set_ylabel('Value')\n",
    "\n",
    "axs[0].grid(True)\n",
    "axs[1].grid(True)\n",
    "\n",
    "# plt.grid(True)\n",
    "\n",
    "plt.show()"
   ]
  },
  {
   "cell_type": "code",
   "execution_count": 22,
   "metadata": {},
   "outputs": [],
   "source": [
    "features = ['Open', 'Adj Close', 'ema', 'macd', 'signalline', 'bollinger_lower_band']"
   ]
  },
  {
   "cell_type": "code",
   "execution_count": 23,
   "metadata": {},
   "outputs": [
    {
     "data": {
      "text/plain": [
       "Index(['Open', 'Adj Close', 'ema', 'macd', 'signalline',\n",
       "       'bollinger_lower_band'],\n",
       "      dtype='object')"
      ]
     },
     "execution_count": 23,
     "metadata": {},
     "output_type": "execute_result"
    }
   ],
   "source": [
    "X = final_df[features].copy()\n",
    "X.columns"
   ]
  },
  {
   "cell_type": "code",
   "execution_count": 24,
   "metadata": {},
   "outputs": [
    {
     "data": {
      "text/plain": [
       "Index(['dead_cat'], dtype='object')"
      ]
     },
     "execution_count": 24,
     "metadata": {},
     "output_type": "execute_result"
    }
   ],
   "source": [
    "y = final_df[['dead_cat']].copy()\n",
    "y.columns"
   ]
  },
  {
   "cell_type": "code",
   "execution_count": 25,
   "metadata": {},
   "outputs": [
    {
     "data": {
      "text/html": [
       "<div>\n",
       "<style scoped>\n",
       "    .dataframe tbody tr th:only-of-type {\n",
       "        vertical-align: middle;\n",
       "    }\n",
       "\n",
       "    .dataframe tbody tr th {\n",
       "        vertical-align: top;\n",
       "    }\n",
       "\n",
       "    .dataframe thead th {\n",
       "        text-align: right;\n",
       "    }\n",
       "</style>\n",
       "<table border=\"1\" class=\"dataframe\">\n",
       "  <thead>\n",
       "    <tr style=\"text-align: right;\">\n",
       "      <th></th>\n",
       "      <th>dead_cat</th>\n",
       "    </tr>\n",
       "    <tr>\n",
       "      <th>date</th>\n",
       "      <th></th>\n",
       "    </tr>\n",
       "  </thead>\n",
       "  <tbody>\n",
       "    <tr>\n",
       "      <th>2011-08-24</th>\n",
       "      <td>0</td>\n",
       "    </tr>\n",
       "    <tr>\n",
       "      <th>2011-08-25</th>\n",
       "      <td>0</td>\n",
       "    </tr>\n",
       "    <tr>\n",
       "      <th>2011-08-26</th>\n",
       "      <td>0</td>\n",
       "    </tr>\n",
       "    <tr>\n",
       "      <th>2011-08-29</th>\n",
       "      <td>0</td>\n",
       "    </tr>\n",
       "    <tr>\n",
       "      <th>2011-08-30</th>\n",
       "      <td>0</td>\n",
       "    </tr>\n",
       "  </tbody>\n",
       "</table>\n",
       "</div>"
      ],
      "text/plain": [
       "            dead_cat\n",
       "date                \n",
       "2011-08-24         0\n",
       "2011-08-25         0\n",
       "2011-08-26         0\n",
       "2011-08-29         0\n",
       "2011-08-30         0"
      ]
     },
     "execution_count": 25,
     "metadata": {},
     "output_type": "execute_result"
    }
   ],
   "source": [
    "y.head()"
   ]
  },
  {
   "cell_type": "code",
   "execution_count": 26,
   "metadata": {},
   "outputs": [],
   "source": [
    "X_train, X_test, y_train, y_test = train_test_split(X, y, test_size=0.33, random_state=42)"
   ]
  },
  {
   "cell_type": "code",
   "execution_count": 27,
   "metadata": {},
   "outputs": [
    {
     "data": {
      "text/html": [
       "<div>\n",
       "<style scoped>\n",
       "    .dataframe tbody tr th:only-of-type {\n",
       "        vertical-align: middle;\n",
       "    }\n",
       "\n",
       "    .dataframe tbody tr th {\n",
       "        vertical-align: top;\n",
       "    }\n",
       "\n",
       "    .dataframe thead th {\n",
       "        text-align: right;\n",
       "    }\n",
       "</style>\n",
       "<table border=\"1\" class=\"dataframe\">\n",
       "  <thead>\n",
       "    <tr style=\"text-align: right;\">\n",
       "      <th></th>\n",
       "      <th>dead_cat</th>\n",
       "    </tr>\n",
       "  </thead>\n",
       "  <tbody>\n",
       "    <tr>\n",
       "      <th>count</th>\n",
       "      <td>1671.000000</td>\n",
       "    </tr>\n",
       "    <tr>\n",
       "      <th>mean</th>\n",
       "      <td>0.001197</td>\n",
       "    </tr>\n",
       "    <tr>\n",
       "      <th>std</th>\n",
       "      <td>0.034586</td>\n",
       "    </tr>\n",
       "    <tr>\n",
       "      <th>min</th>\n",
       "      <td>0.000000</td>\n",
       "    </tr>\n",
       "    <tr>\n",
       "      <th>25%</th>\n",
       "      <td>0.000000</td>\n",
       "    </tr>\n",
       "    <tr>\n",
       "      <th>50%</th>\n",
       "      <td>0.000000</td>\n",
       "    </tr>\n",
       "    <tr>\n",
       "      <th>75%</th>\n",
       "      <td>0.000000</td>\n",
       "    </tr>\n",
       "    <tr>\n",
       "      <th>max</th>\n",
       "      <td>1.000000</td>\n",
       "    </tr>\n",
       "  </tbody>\n",
       "</table>\n",
       "</div>"
      ],
      "text/plain": [
       "          dead_cat\n",
       "count  1671.000000\n",
       "mean      0.001197\n",
       "std       0.034586\n",
       "min       0.000000\n",
       "25%       0.000000\n",
       "50%       0.000000\n",
       "75%       0.000000\n",
       "max       1.000000"
      ]
     },
     "execution_count": 27,
     "metadata": {},
     "output_type": "execute_result"
    }
   ],
   "source": [
    "y_train.describe()"
   ]
  },
  {
   "cell_type": "code",
   "execution_count": 28,
   "metadata": {},
   "outputs": [],
   "source": [
    "# List of values to try for max_depth:\n",
    "max_depth_range = list(range(1, 10))\n",
    "# List to store the accuracy for each value of max_depth:\n",
    "accuracy = []\n",
    "for depth in max_depth_range:\n",
    "    \n",
    "    clf = DecisionTreeClassifier(max_depth = depth, \n",
    "                             random_state = 0)\n",
    "    clf.fit(X_train, y_train)\n",
    "    score = clf.score(X_test, y_test)\n",
    "    accuracy.append(score)"
   ]
  },
  {
   "cell_type": "code",
   "execution_count": 29,
   "metadata": {},
   "outputs": [],
   "source": [
    "cat_classifier = DecisionTreeClassifier(random_state=0, max_leaf_nodes=5)"
   ]
  },
  {
   "cell_type": "code",
   "execution_count": 30,
   "metadata": {},
   "outputs": [],
   "source": [
    "predictions = cat_classifier.fit(X_train, y_train).predict(X_test)"
   ]
  },
  {
   "cell_type": "code",
   "execution_count": 31,
   "metadata": {},
   "outputs": [
    {
     "data": {
      "text/plain": [
       "array([0, 0, 0, 0, 0, 0, 0, 0, 0, 0])"
      ]
     },
     "execution_count": 31,
     "metadata": {},
     "output_type": "execute_result"
    }
   ],
   "source": [
    "predictions[:10]"
   ]
  },
  {
   "cell_type": "code",
   "execution_count": 32,
   "metadata": {},
   "outputs": [
    {
     "data": {
      "text/html": [
       "<div>\n",
       "<style scoped>\n",
       "    .dataframe tbody tr th:only-of-type {\n",
       "        vertical-align: middle;\n",
       "    }\n",
       "\n",
       "    .dataframe tbody tr th {\n",
       "        vertical-align: top;\n",
       "    }\n",
       "\n",
       "    .dataframe thead th {\n",
       "        text-align: right;\n",
       "    }\n",
       "</style>\n",
       "<table border=\"1\" class=\"dataframe\">\n",
       "  <thead>\n",
       "    <tr style=\"text-align: right;\">\n",
       "      <th></th>\n",
       "      <th>dead_cat</th>\n",
       "    </tr>\n",
       "    <tr>\n",
       "      <th>date</th>\n",
       "      <th></th>\n",
       "    </tr>\n",
       "  </thead>\n",
       "  <tbody>\n",
       "    <tr>\n",
       "      <th>2019-05-15</th>\n",
       "      <td>1</td>\n",
       "    </tr>\n",
       "  </tbody>\n",
       "</table>\n",
       "</div>"
      ],
      "text/plain": [
       "            dead_cat\n",
       "date                \n",
       "2019-05-15         1"
      ]
     },
     "execution_count": 32,
     "metadata": {},
     "output_type": "execute_result"
    }
   ],
   "source": [
    "y_test['dead_cat'][:10]\n",
    "y_test[y_test['dead_cat'] == 1]"
   ]
  },
  {
   "cell_type": "code",
   "execution_count": 33,
   "metadata": {},
   "outputs": [
    {
     "data": {
      "text/plain": [
       "0.9987864077669902"
      ]
     },
     "execution_count": 33,
     "metadata": {},
     "output_type": "execute_result"
    }
   ],
   "source": [
    "accuracy_score(y_true = y_test, y_pred = predictions)"
   ]
  },
  {
   "cell_type": "code",
   "execution_count": 34,
   "metadata": {},
   "outputs": [
    {
     "name": "stdout",
     "output_type": "stream",
     "text": [
      "0.9987864077669902\n"
     ]
    }
   ],
   "source": [
    "score = cat_classifier.score(X_test, y_test)\n",
    "print(score)"
   ]
  },
  {
   "cell_type": "markdown",
   "metadata": {},
   "source": [
    "<p style=\"font-family: Arial; font-size:1.75em;color:purple; font-style:bold\">Note</p>\n",
    "<br>\n",
    "I don't think the prediction model is built correctly, as an accuracy of 99% seems to be too high. \n",
    "If you know where my mistake is, please contact me at my mail: sarwariadrian@gmail.com  It will be great to have a discussion where I can enhance my code and make this model work more properly.\n",
    "<br><br>"
   ]
  }
 ],
 "metadata": {
  "kernelspec": {
   "display_name": "Python 3",
   "language": "python",
   "name": "python3"
  },
  "language_info": {
   "codemirror_mode": {
    "name": "ipython",
    "version": 3
   },
   "file_extension": ".py",
   "mimetype": "text/x-python",
   "name": "python",
   "nbconvert_exporter": "python",
   "pygments_lexer": "ipython3",
   "version": "3.8.5"
  }
 },
 "nbformat": 4,
 "nbformat_minor": 4
}
